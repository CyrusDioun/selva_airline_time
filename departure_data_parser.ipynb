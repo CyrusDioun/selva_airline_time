{
 "cells": [
  {
   "cell_type": "markdown",
   "metadata": {},
   "source": [
    "#### Import required packages"
   ]
  },
  {
   "cell_type": "code",
   "execution_count": 1,
   "metadata": {},
   "outputs": [],
   "source": [
    "import pandas as pd\n",
    "import numpy as np"
   ]
  },
  {
   "cell_type": "markdown",
   "metadata": {},
   "source": [
    "#### Read Header information"
   ]
  },
  {
   "cell_type": "code",
   "execution_count": 9,
   "metadata": {},
   "outputs": [],
   "source": [
    "header = pd.read_csv(r'C:\\Users\\Selva\\Desktop\\assignment\\sample.csv',nrows = 4,skiprows=[4])"
   ]
  },
  {
   "cell_type": "code",
   "execution_count": 11,
   "metadata": {},
   "outputs": [
    {
     "data": {
      "text/html": [
       "<div>\n",
       "<style scoped>\n",
       "    .dataframe tbody tr th:only-of-type {\n",
       "        vertical-align: middle;\n",
       "    }\n",
       "\n",
       "    .dataframe tbody tr th {\n",
       "        vertical-align: top;\n",
       "    }\n",
       "\n",
       "    .dataframe thead th {\n",
       "        text-align: right;\n",
       "    }\n",
       "</style>\n",
       "<table border=\"1\" class=\"dataframe\">\n",
       "  <thead>\n",
       "    <tr style=\"text-align: right;\">\n",
       "      <th></th>\n",
       "      <th>Detailed Statistics Departures</th>\n",
       "    </tr>\n",
       "  </thead>\n",
       "  <tbody>\n",
       "    <tr>\n",
       "      <td>Origin Airport: Adak Island</td>\n",
       "      <td>AK: Adak (ADK)</td>\n",
       "    </tr>\n",
       "    <tr>\n",
       "      <td>Airline: Alaska Airlines Inc. (AS)</td>\n",
       "      <td>NaN</td>\n",
       "    </tr>\n",
       "    <tr>\n",
       "      <td>Month(s): July</td>\n",
       "      <td>NaN</td>\n",
       "    </tr>\n",
       "    <tr>\n",
       "      <td>Year(s): 2005</td>\n",
       "      <td>NaN</td>\n",
       "    </tr>\n",
       "  </tbody>\n",
       "</table>\n",
       "</div>"
      ],
      "text/plain": [
       "                                   Detailed Statistics Departures  \n",
       "Origin Airport: Adak Island                          AK: Adak (ADK)\n",
       "Airline: Alaska Airlines Inc. (AS)                              NaN\n",
       "Month(s): July                                                  NaN\n",
       "Year(s): 2005                                                   NaN"
      ]
     },
     "execution_count": 11,
     "metadata": {},
     "output_type": "execute_result"
    }
   ],
   "source": [
    "header.head(4)"
   ]
  },
  {
   "cell_type": "markdown",
   "metadata": {},
   "source": [
    "#### Read data rows"
   ]
  },
  {
   "cell_type": "code",
   "execution_count": 12,
   "metadata": {},
   "outputs": [],
   "source": [
    "data = pd.read_csv(r'C:\\Users\\Selva\\Desktop\\assignment\\sample.csv',skiprows=7)"
   ]
  },
  {
   "cell_type": "code",
   "execution_count": 18,
   "metadata": {},
   "outputs": [],
   "source": [
    "data = data[:data.shape[0]-1] # Ignore footer row"
   ]
  },
  {
   "cell_type": "code",
   "execution_count": 21,
   "metadata": {},
   "outputs": [
    {
     "data": {
      "text/plain": [
       "Carrier Code                                        AS\n",
       "Date (MM/DD/YYYY)                           07/31/2005\n",
       "Flight Number                                      139\n",
       "Tail Number                                        NaN\n",
       "Destination Airport                                AKN\n",
       "Scheduled departure time                         13:52\n",
       "Actual departure time                            00:00\n",
       "Scheduled elapsed time (Minutes)                   131\n",
       "Actual elapsed time (Minutes)                        0\n",
       "Departure delay (Minutes)                            0\n",
       "Wheels-off time                                  00:00\n",
       "Taxi-Out time (Minutes)                              0\n",
       "Delay Carrier (Minutes)                              0\n",
       "Delay Weather (Minutes)                              0\n",
       "Delay National Aviation System (Minutes)             0\n",
       "Delay Security (Minutes)                             0\n",
       "Delay Late Aircraft Arrival (Minutes)                0\n",
       "Name: 8, dtype: object"
      ]
     },
     "execution_count": 21,
     "metadata": {},
     "output_type": "execute_result"
    }
   ],
   "source": [
    "data.loc[data.shape[0]-1] # Check if last row is valid"
   ]
  },
  {
   "cell_type": "code",
   "execution_count": 22,
   "metadata": {},
   "outputs": [
    {
     "data": {
      "text/html": [
       "<div>\n",
       "<style scoped>\n",
       "    .dataframe tbody tr th:only-of-type {\n",
       "        vertical-align: middle;\n",
       "    }\n",
       "\n",
       "    .dataframe tbody tr th {\n",
       "        vertical-align: top;\n",
       "    }\n",
       "\n",
       "    .dataframe thead th {\n",
       "        text-align: right;\n",
       "    }\n",
       "</style>\n",
       "<table border=\"1\" class=\"dataframe\">\n",
       "  <thead>\n",
       "    <tr style=\"text-align: right;\">\n",
       "      <th></th>\n",
       "      <th>Carrier Code</th>\n",
       "      <th>Date (MM/DD/YYYY)</th>\n",
       "      <th>Flight Number</th>\n",
       "      <th>Tail Number</th>\n",
       "      <th>Destination Airport</th>\n",
       "      <th>Scheduled departure time</th>\n",
       "      <th>Actual departure time</th>\n",
       "      <th>Scheduled elapsed time (Minutes)</th>\n",
       "      <th>Actual elapsed time (Minutes)</th>\n",
       "      <th>Departure delay (Minutes)</th>\n",
       "      <th>Wheels-off time</th>\n",
       "      <th>Taxi-Out time (Minutes)</th>\n",
       "      <th>Delay Carrier (Minutes)</th>\n",
       "      <th>Delay Weather (Minutes)</th>\n",
       "      <th>Delay National Aviation System (Minutes)</th>\n",
       "      <th>Delay Security (Minutes)</th>\n",
       "      <th>Delay Late Aircraft Arrival (Minutes)</th>\n",
       "    </tr>\n",
       "  </thead>\n",
       "  <tbody>\n",
       "    <tr>\n",
       "      <td>0</td>\n",
       "      <td>AS</td>\n",
       "      <td>07/03/2005</td>\n",
       "      <td>139.0</td>\n",
       "      <td>N742AS</td>\n",
       "      <td>AKN</td>\n",
       "      <td>13:52</td>\n",
       "      <td>14:34</td>\n",
       "      <td>131.0</td>\n",
       "      <td>121.0</td>\n",
       "      <td>42.0</td>\n",
       "      <td>14:40</td>\n",
       "      <td>6.0</td>\n",
       "      <td>3.0</td>\n",
       "      <td>0.0</td>\n",
       "      <td>0.0</td>\n",
       "      <td>0.0</td>\n",
       "      <td>29.0</td>\n",
       "    </tr>\n",
       "    <tr>\n",
       "      <td>1</td>\n",
       "      <td>AS</td>\n",
       "      <td>07/07/2005</td>\n",
       "      <td>139.0</td>\n",
       "      <td>N730AS</td>\n",
       "      <td>AKN</td>\n",
       "      <td>13:52</td>\n",
       "      <td>14:26</td>\n",
       "      <td>131.0</td>\n",
       "      <td>123.0</td>\n",
       "      <td>34.0</td>\n",
       "      <td>14:31</td>\n",
       "      <td>5.0</td>\n",
       "      <td>26.0</td>\n",
       "      <td>0.0</td>\n",
       "      <td>0.0</td>\n",
       "      <td>0.0</td>\n",
       "      <td>0.0</td>\n",
       "    </tr>\n",
       "    <tr>\n",
       "      <td>2</td>\n",
       "      <td>AS</td>\n",
       "      <td>07/10/2005</td>\n",
       "      <td>139.0</td>\n",
       "      <td>N745AS</td>\n",
       "      <td>AKN</td>\n",
       "      <td>13:52</td>\n",
       "      <td>14:12</td>\n",
       "      <td>131.0</td>\n",
       "      <td>135.0</td>\n",
       "      <td>20.0</td>\n",
       "      <td>14:24</td>\n",
       "      <td>12.0</td>\n",
       "      <td>20.0</td>\n",
       "      <td>0.0</td>\n",
       "      <td>4.0</td>\n",
       "      <td>0.0</td>\n",
       "      <td>0.0</td>\n",
       "    </tr>\n",
       "    <tr>\n",
       "      <td>3</td>\n",
       "      <td>AS</td>\n",
       "      <td>07/14/2005</td>\n",
       "      <td>139.0</td>\n",
       "      <td>N747AS</td>\n",
       "      <td>AKN</td>\n",
       "      <td>13:52</td>\n",
       "      <td>13:41</td>\n",
       "      <td>131.0</td>\n",
       "      <td>123.0</td>\n",
       "      <td>-11.0</td>\n",
       "      <td>13:47</td>\n",
       "      <td>6.0</td>\n",
       "      <td>0.0</td>\n",
       "      <td>0.0</td>\n",
       "      <td>0.0</td>\n",
       "      <td>0.0</td>\n",
       "      <td>0.0</td>\n",
       "    </tr>\n",
       "    <tr>\n",
       "      <td>4</td>\n",
       "      <td>AS</td>\n",
       "      <td>07/17/2005</td>\n",
       "      <td>139.0</td>\n",
       "      <td>N746AS</td>\n",
       "      <td>AKN</td>\n",
       "      <td>13:52</td>\n",
       "      <td>13:55</td>\n",
       "      <td>131.0</td>\n",
       "      <td>120.0</td>\n",
       "      <td>3.0</td>\n",
       "      <td>14:01</td>\n",
       "      <td>6.0</td>\n",
       "      <td>0.0</td>\n",
       "      <td>0.0</td>\n",
       "      <td>0.0</td>\n",
       "      <td>0.0</td>\n",
       "      <td>0.0</td>\n",
       "    </tr>\n",
       "  </tbody>\n",
       "</table>\n",
       "</div>"
      ],
      "text/plain": [
       "  Carrier Code Date (MM/DD/YYYY)  Flight Number Tail Number  \\\n",
       "0           AS        07/03/2005          139.0      N742AS   \n",
       "1           AS        07/07/2005          139.0      N730AS   \n",
       "2           AS        07/10/2005          139.0      N745AS   \n",
       "3           AS        07/14/2005          139.0      N747AS   \n",
       "4           AS        07/17/2005          139.0      N746AS   \n",
       "\n",
       "  Destination Airport Scheduled departure time Actual departure time  \\\n",
       "0                 AKN                    13:52                 14:34   \n",
       "1                 AKN                    13:52                 14:26   \n",
       "2                 AKN                    13:52                 14:12   \n",
       "3                 AKN                    13:52                 13:41   \n",
       "4                 AKN                    13:52                 13:55   \n",
       "\n",
       "   Scheduled elapsed time (Minutes)  Actual elapsed time (Minutes)  \\\n",
       "0                             131.0                          121.0   \n",
       "1                             131.0                          123.0   \n",
       "2                             131.0                          135.0   \n",
       "3                             131.0                          123.0   \n",
       "4                             131.0                          120.0   \n",
       "\n",
       "   Departure delay (Minutes) Wheels-off time  Taxi-Out time (Minutes)  \\\n",
       "0                       42.0           14:40                      6.0   \n",
       "1                       34.0           14:31                      5.0   \n",
       "2                       20.0           14:24                     12.0   \n",
       "3                      -11.0           13:47                      6.0   \n",
       "4                        3.0           14:01                      6.0   \n",
       "\n",
       "   Delay Carrier (Minutes)  Delay Weather (Minutes)  \\\n",
       "0                      3.0                      0.0   \n",
       "1                     26.0                      0.0   \n",
       "2                     20.0                      0.0   \n",
       "3                      0.0                      0.0   \n",
       "4                      0.0                      0.0   \n",
       "\n",
       "   Delay National Aviation System (Minutes)  Delay Security (Minutes)  \\\n",
       "0                                       0.0                       0.0   \n",
       "1                                       0.0                       0.0   \n",
       "2                                       4.0                       0.0   \n",
       "3                                       0.0                       0.0   \n",
       "4                                       0.0                       0.0   \n",
       "\n",
       "   Delay Late Aircraft Arrival (Minutes)  \n",
       "0                                   29.0  \n",
       "1                                    0.0  \n",
       "2                                    0.0  \n",
       "3                                    0.0  \n",
       "4                                    0.0  "
      ]
     },
     "execution_count": 22,
     "metadata": {},
     "output_type": "execute_result"
    }
   ],
   "source": [
    "data.head(5)"
   ]
  },
  {
   "cell_type": "code",
   "execution_count": 23,
   "metadata": {},
   "outputs": [
    {
     "data": {
      "text/plain": [
       "Carrier Code                                 object\n",
       "Date (MM/DD/YYYY)                            object\n",
       "Flight Number                               float64\n",
       "Tail Number                                  object\n",
       "Destination Airport                          object\n",
       "Scheduled departure time                     object\n",
       "Actual departure time                        object\n",
       "Scheduled elapsed time (Minutes)            float64\n",
       "Actual elapsed time (Minutes)               float64\n",
       "Departure delay (Minutes)                   float64\n",
       "Wheels-off time                              object\n",
       "Taxi-Out time (Minutes)                     float64\n",
       "Delay Carrier (Minutes)                     float64\n",
       "Delay Weather (Minutes)                     float64\n",
       "Delay National Aviation System (Minutes)    float64\n",
       "Delay Security (Minutes)                    float64\n",
       "Delay Late Aircraft Arrival (Minutes)       float64\n",
       "dtype: object"
      ]
     },
     "execution_count": 23,
     "metadata": {},
     "output_type": "execute_result"
    }
   ],
   "source": [
    "data.dtypes "
   ]
  },
  {
   "cell_type": "code",
   "execution_count": 24,
   "metadata": {},
   "outputs": [],
   "source": [
    "# TODO - Change datatype and write insert scripts once db design in finalized"
   ]
  }
 ],
 "metadata": {
  "kernelspec": {
   "display_name": "Python 3",
   "language": "python",
   "name": "python3"
  },
  "language_info": {
   "codemirror_mode": {
    "name": "ipython",
    "version": 3
   },
   "file_extension": ".py",
   "mimetype": "text/x-python",
   "name": "python",
   "nbconvert_exporter": "python",
   "pygments_lexer": "ipython3",
   "version": "3.6.9"
  }
 },
 "nbformat": 4,
 "nbformat_minor": 2
}
